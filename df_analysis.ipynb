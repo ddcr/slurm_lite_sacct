{
 "cells": [
  {
   "cell_type": "code",
   "execution_count": 1,
   "metadata": {
    "collapsed": false
   },
   "outputs": [],
   "source": [
    "import pandas as pd\n",
    "import sys\n",
    "import os\n",
    "import matplotlib.pyplot as plt"
   ]
  },
  {
   "cell_type": "code",
   "execution_count": 2,
   "metadata": {
    "collapsed": true
   },
   "outputs": [],
   "source": [
    "rootdir='sacct_outputs'\n",
    "#rootdir='sacct_outputs_no_dupes' \n",
    "df=pd.read_hdf(os.path.join(rootdir, 'all.blosc.h5'))"
   ]
  },
  {
   "cell_type": "code",
   "execution_count": 3,
   "metadata": {
    "collapsed": true
   },
   "outputs": [],
   "source": [
    "#df_dupes = df[df.duplicated(['jobid'], keep=False)]"
   ]
  },
  {
   "cell_type": "code",
   "execution_count": 4,
   "metadata": {
    "collapsed": true
   },
   "outputs": [],
   "source": [
    "#df_dupes_sort = df_dupes.sort_values(by=['jobid', 'submit'], ascending=True)"
   ]
  },
  {
   "cell_type": "code",
   "execution_count": 5,
   "metadata": {
    "collapsed": false
   },
   "outputs": [],
   "source": [
    "#print len(df_dupes_sort)"
   ]
  },
  {
   "cell_type": "code",
   "execution_count": 6,
   "metadata": {
    "collapsed": true
   },
   "outputs": [],
   "source": [
    "#df_dupes_sort.to_csv(os.path,join(rootdir, 'duplicated.csv'),\n",
    "#                     sep='|',\n",
    "#                     header=False,\n",
    "#                     index=False,\n",
    "#                     date_format='%Y-%m-%dT%H:%M:%S')"
   ]
  },
  {
   "cell_type": "code",
   "execution_count": 7,
   "metadata": {
    "collapsed": false
   },
   "outputs": [],
   "source": [
    "#df_dupes_sort[df_dupes_sort['start'] < df_dupes_sort['submit']]\n",
    "# df_probs = df[df['eligible'] < df['submit']]\n",
    "# df_probs = df_probs.sort_values(by=['jobid', 'submit'], ascending=True)\n",
    "# df_probs.to_csv(os.path.join(rootdir, 'df_eligible_less_submit.csv'),\n",
    "#                 sep='|',\n",
    "#                 header=False,\n",
    "#                 index=False,\n",
    "#                 date_format='%Y-%m-%dT%H:%M:%S')"
   ]
  },
  {
   "cell_type": "code",
   "execution_count": 8,
   "metadata": {
    "collapsed": true
   },
   "outputs": [],
   "source": [
    "df['delta'] = df['eligible']-df['submit']"
   ]
  },
  {
   "cell_type": "code",
   "execution_count": 9,
   "metadata": {
    "collapsed": false
   },
   "outputs": [
    {
     "name": "stdout",
     "output_type": "stream",
     "text": [
      "1696\n"
     ]
    }
   ],
   "source": [
    "print len(df[df['eligible'] <  df['submit']])"
   ]
  },
  {
   "cell_type": "code",
   "execution_count": 10,
   "metadata": {
    "collapsed": false
   },
   "outputs": [
    {
     "data": {
      "text/plain": [
       "Timedelta('-41 days +17:39:28')"
      ]
     },
     "execution_count": 10,
     "metadata": {},
     "output_type": "execute_result"
    }
   ],
   "source": [
    "df['delta'].min()"
   ]
  },
  {
   "cell_type": "code",
   "execution_count": 11,
   "metadata": {
    "collapsed": false
   },
   "outputs": [
    {
     "data": {
      "text/html": [
       "<div>\n",
       "<table border=\"1\" class=\"dataframe\">\n",
       "  <thead>\n",
       "    <tr style=\"text-align: right;\">\n",
       "      <th></th>\n",
       "      <th>jobid</th>\n",
       "      <th>jobidraw</th>\n",
       "      <th>cluster</th>\n",
       "      <th>partition</th>\n",
       "      <th>account</th>\n",
       "      <th>group</th>\n",
       "      <th>gid</th>\n",
       "      <th>user</th>\n",
       "      <th>uid</th>\n",
       "      <th>submit</th>\n",
       "      <th>...</th>\n",
       "      <th>nnodes</th>\n",
       "      <th>ncpus</th>\n",
       "      <th>reqcpus</th>\n",
       "      <th>reqmem</th>\n",
       "      <th>reqgres</th>\n",
       "      <th>reqtres</th>\n",
       "      <th>timelimit</th>\n",
       "      <th>nodelist</th>\n",
       "      <th>jobname</th>\n",
       "      <th>delta</th>\n",
       "    </tr>\n",
       "  </thead>\n",
       "  <tbody>\n",
       "    <tr>\n",
       "      <th>2325921</th>\n",
       "      <td>1261161</td>\n",
       "      <td>1261161</td>\n",
       "      <td>veredas</td>\n",
       "      <td>long</td>\n",
       "      <td>sgaufmg</td>\n",
       "      <td>testes</td>\n",
       "      <td>510</td>\n",
       "      <td>sgaufmg</td>\n",
       "      <td>1149</td>\n",
       "      <td>2013-12-16 16:49:11</td>\n",
       "      <td>...</td>\n",
       "      <td>1</td>\n",
       "      <td>1</td>\n",
       "      <td>1</td>\n",
       "      <td>1.95Gc</td>\n",
       "      <td>NaN</td>\n",
       "      <td>NaN</td>\n",
       "      <td>4 days 04:00:00</td>\n",
       "      <td>veredas62</td>\n",
       "      <td>script.sh</td>\n",
       "      <td>-41 days +17:39:28</td>\n",
       "    </tr>\n",
       "  </tbody>\n",
       "</table>\n",
       "<p>1 rows × 26 columns</p>\n",
       "</div>"
      ],
      "text/plain": [
       "           jobid  jobidraw  cluster partition  account   group  gid     user  \\\n",
       "2325921  1261161   1261161  veredas      long  sgaufmg  testes  510  sgaufmg   \n",
       "\n",
       "          uid              submit        ...         nnodes ncpus reqcpus  \\\n",
       "2325921  1149 2013-12-16 16:49:11        ...              1     1       1   \n",
       "\n",
       "         reqmem reqgres reqtres       timelimit   nodelist    jobname  \\\n",
       "2325921  1.95Gc     NaN     NaN 4 days 04:00:00  veredas62  script.sh   \n",
       "\n",
       "                     delta  \n",
       "2325921 -41 days +17:39:28  \n",
       "\n",
       "[1 rows x 26 columns]"
      ]
     },
     "execution_count": 11,
     "metadata": {},
     "output_type": "execute_result"
    }
   ],
   "source": [
    "df[df['delta'] == pd.Timedelta('-41 days +17:39:28')]"
   ]
  },
  {
   "cell_type": "code",
   "execution_count": 12,
   "metadata": {
    "collapsed": false
   },
   "outputs": [
    {
     "data": {
      "text/plain": [
       "jobid                    1261161\n",
       "jobidraw                 1261161\n",
       "cluster                  veredas\n",
       "partition                   long\n",
       "account                  sgaufmg\n",
       "group                     testes\n",
       "gid                          510\n",
       "user                     sgaufmg\n",
       "uid                         1149\n",
       "submit       2013-12-16 16:49:11\n",
       "eligible     2013-11-06 10:28:39\n",
       "start        2014-07-24 00:58:18\n",
       "end          2014-07-24 00:58:18\n",
       "elapsed          0 days 00:00:00\n",
       "exitcode                     0:0\n",
       "state             CANCELLED by 0\n",
       "nnodes                         1\n",
       "ncpus                          1\n",
       "reqcpus                        1\n",
       "reqmem                    1.95Gc\n",
       "reqgres                      NaN\n",
       "reqtres                      NaN\n",
       "timelimit        4 days 04:00:00\n",
       "nodelist               veredas62\n",
       "jobname                script.sh\n",
       "delta         -41 days +17:39:28\n",
       "Name: 2325921, dtype: object"
      ]
     },
     "execution_count": 12,
     "metadata": {},
     "output_type": "execute_result"
    }
   ],
   "source": [
    "df.ix[2325921]"
   ]
  },
  {
   "cell_type": "code",
   "execution_count": 13,
   "metadata": {
    "collapsed": false
   },
   "outputs": [],
   "source": [
    "df_outliers = df[df['eligible'] < df['submit']]"
   ]
  },
  {
   "cell_type": "code",
   "execution_count": 14,
   "metadata": {
    "collapsed": false
   },
   "outputs": [
    {
     "data": {
      "text/plain": [
       "count                        1696\n",
       "mean     -2 days +22:22:02.747051\n",
       "std        2 days 06:19:21.306594\n",
       "min            -41 days +17:39:28\n",
       "25%             -2 days +22:20:30\n",
       "50%             -1 days +19:51:53\n",
       "75%      -1 days +23:01:35.750000\n",
       "max             -1 days +23:59:50\n",
       "Name: delta, dtype: object"
      ]
     },
     "execution_count": 14,
     "metadata": {},
     "output_type": "execute_result"
    }
   ],
   "source": [
    "df_outliers['delta'].describe()"
   ]
  },
  {
   "cell_type": "code",
   "execution_count": 15,
   "metadata": {
    "collapsed": false
   },
   "outputs": [
    {
     "data": {
      "image/png": "[encoded data removed]",
      "text/plain": [
       "<matplotlib.figure.Figure at 0x7f95b19fcd50>"
      ]
     },
     "metadata": {},
     "output_type": "display_data"
    }
   ],
   "source": [
    "plt.figure();\n",
    "(df_outliers['delta']/pd.Timedelta(hours=12)).hist()\n",
    "plt.show()"
   ]
  },
  {
   "cell_type": "code",
   "execution_count": 16,
   "metadata": {
    "collapsed": false
   },
   "outputs": [
    {
     "data": {
      "text/html": [
       "<div>\n",
       "<table border=\"1\" class=\"dataframe\">\n",
       "  <thead>\n",
       "    <tr style=\"text-align: right;\">\n",
       "      <th></th>\n",
       "      <th>submit</th>\n",
       "      <th>eligible</th>\n",
       "      <th>start</th>\n",
       "      <th>end</th>\n",
       "      <th>elapsed</th>\n",
       "      <th>timelimit</th>\n",
       "    </tr>\n",
       "  </thead>\n",
       "  <tbody>\n",
       "    <tr>\n",
       "      <th>17983</th>\n",
       "      <td>2011-08-10 16:03:51</td>\n",
       "      <td>2011-08-09 16:49:29</td>\n",
       "      <td>2011-08-10 16:23:01</td>\n",
       "      <td>2011-08-10 16:23:01</td>\n",
       "      <td>0 days</td>\n",
       "      <td>4 days 04:00:00</td>\n",
       "    </tr>\n",
       "    <tr>\n",
       "      <th>17986</th>\n",
       "      <td>2011-08-10 16:03:51</td>\n",
       "      <td>2011-08-09 16:49:30</td>\n",
       "      <td>2011-08-10 16:23:02</td>\n",
       "      <td>2011-08-10 16:23:02</td>\n",
       "      <td>0 days</td>\n",
       "      <td>4 days 04:00:00</td>\n",
       "    </tr>\n",
       "    <tr>\n",
       "      <th>18042</th>\n",
       "      <td>2011-08-10 16:03:51</td>\n",
       "      <td>2011-08-10 09:52:16</td>\n",
       "      <td>2011-08-10 16:23:01</td>\n",
       "      <td>2011-08-10 16:23:01</td>\n",
       "      <td>0 days</td>\n",
       "      <td>4 days 04:00:00</td>\n",
       "    </tr>\n",
       "  </tbody>\n",
       "</table>\n",
       "</div>"
      ],
      "text/plain": [
       "                   submit            eligible               start  \\\n",
       "17983 2011-08-10 16:03:51 2011-08-09 16:49:29 2011-08-10 16:23:01   \n",
       "17986 2011-08-10 16:03:51 2011-08-09 16:49:30 2011-08-10 16:23:02   \n",
       "18042 2011-08-10 16:03:51 2011-08-10 09:52:16 2011-08-10 16:23:01   \n",
       "\n",
       "                      end  elapsed       timelimit  \n",
       "17983 2011-08-10 16:23:01   0 days 4 days 04:00:00  \n",
       "17986 2011-08-10 16:23:02   0 days 4 days 04:00:00  \n",
       "18042 2011-08-10 16:23:01   0 days 4 days 04:00:00  "
      ]
     },
     "execution_count": 16,
     "metadata": {},
     "output_type": "execute_result"
    }
   ],
   "source": [
    "df_outliers[df_outliers['elapsed']==pd.Timedelta(0)][['submit','eligible','start', 'end', 'elapsed', 'timelimit']].head(3)"
   ]
  },
  {
   "cell_type": "code",
   "execution_count": 17,
   "metadata": {
    "collapsed": false
   },
   "outputs": [
    {
     "name": "stderr",
     "output_type": "stream",
     "text": [
      "/home/hpc/miniconda2/lib/python2.7/site-packages/ipykernel/__main__.py:1: UserWarning: Boolean Series key will be reindexed to match DataFrame index.\n",
      "  if __name__ == '__main__':\n"
     ]
    },
    {
     "data": {
      "text/html": [
       "<div>\n",
       "<table border=\"1\" class=\"dataframe\">\n",
       "  <thead>\n",
       "    <tr style=\"text-align: right;\">\n",
       "      <th></th>\n",
       "      <th>submit</th>\n",
       "      <th>eligible</th>\n",
       "      <th>start</th>\n",
       "      <th>end</th>\n",
       "      <th>elapsed</th>\n",
       "      <th>timelimit</th>\n",
       "      <th>state</th>\n",
       "    </tr>\n",
       "  </thead>\n",
       "  <tbody>\n",
       "    <tr>\n",
       "      <th>1086144</th>\n",
       "      <td>2012-10-01 14:39:22</td>\n",
       "      <td>2012-09-28 13:34:02</td>\n",
       "      <td>2012-09-28 13:34:06</td>\n",
       "      <td>2012-10-01 14:39:22</td>\n",
       "      <td>3 days 01:05:16</td>\n",
       "      <td>4 days 04:00:00</td>\n",
       "      <td>NODE_FAIL</td>\n",
       "    </tr>\n",
       "  </tbody>\n",
       "</table>\n",
       "</div>"
      ],
      "text/plain": [
       "                     submit            eligible               start  \\\n",
       "1086144 2012-10-01 14:39:22 2012-09-28 13:34:02 2012-09-28 13:34:06   \n",
       "\n",
       "                        end         elapsed       timelimit      state  \n",
       "1086144 2012-10-01 14:39:22 3 days 01:05:16 4 days 04:00:00  NODE_FAIL  "
      ]
     },
     "execution_count": 17,
     "metadata": {},
     "output_type": "execute_result"
    }
   ],
   "source": [
    "df_outliers[df['start']<df['submit']][['submit','eligible','start','end','elapsed','timelimit','state']]"
   ]
  },
  {
   "cell_type": "markdown",
   "metadata": {},
   "source": [
    "Strategy\n",
    "========\n",
    "1. Exchange fields 'eligible' with 'submit'\n",
    "2. Eliminate jobs with eligible<submit but elapsed=0\n",
    "3. Discard job with JobId=1261161"
   ]
  },
  {
   "cell_type": "code",
   "execution_count": 18,
   "metadata": {
    "collapsed": false
   },
   "outputs": [],
   "source": [
    "idx = (df['eligible']<df['submit'])"
   ]
  },
  {
   "cell_type": "code",
   "execution_count": 19,
   "metadata": {
    "collapsed": false
   },
   "outputs": [
    {
     "name": "stdout",
     "output_type": "stream",
     "text": [
      "                 submit            eligible\n",
      "13  2011-06-01 22:28:43 2011-06-01 22:28:33\n",
      "108 2011-06-01 22:29:29 2011-06-01 22:28:33\n",
      "109 2011-06-01 22:35:09 2011-06-01 22:34:35\n",
      "110 2011-06-01 22:53:14 2011-06-01 22:52:37\n",
      "209 2011-06-02 18:14:12 2011-06-02 14:07:18\n",
      "210 2011-06-02 18:14:12 2011-06-02 14:18:58\n",
      "216 2011-06-02 18:14:12 2011-06-02 16:09:25\n",
      "217 2011-06-02 18:06:34 2011-06-02 16:42:48\n",
      "218 2011-06-02 18:06:37 2011-06-02 16:48:18\n",
      "219 2011-06-02 18:06:37 2011-06-02 16:53:06\n",
      "                 submit            eligible\n",
      "13  2011-06-01 22:28:33 2011-06-01 22:28:43\n",
      "108 2011-06-01 22:28:33 2011-06-01 22:29:29\n",
      "109 2011-06-01 22:34:35 2011-06-01 22:35:09\n",
      "110 2011-06-01 22:52:37 2011-06-01 22:53:14\n",
      "209 2011-06-02 14:07:18 2011-06-02 18:14:12\n",
      "210 2011-06-02 14:18:58 2011-06-02 18:14:12\n",
      "216 2011-06-02 16:09:25 2011-06-02 18:14:12\n",
      "217 2011-06-02 16:42:48 2011-06-02 18:06:34\n",
      "218 2011-06-02 16:48:18 2011-06-02 18:06:37\n",
      "219 2011-06-02 16:53:06 2011-06-02 18:06:37\n"
     ]
    }
   ],
   "source": [
    "# Changes df in loco\n",
    "print  df.loc[idx][['submit','eligible']].head(10)\n",
    "df.loc[idx,['submit', 'eligible']] = df.loc[idx,['eligible', 'submit']].values\n",
    "print  df.loc[idx][['submit','eligible']].head(10)"
   ]
  },
  {
   "cell_type": "code",
   "execution_count": null,
   "metadata": {
    "collapsed": true
   },
   "outputs": [],
   "source": []
  }
 ],
 "metadata": {
  "kernelspec": {
   "display_name": "Python 2",
   "language": "python",
   "name": "python2"
  },
  "language_info": {
   "codemirror_mode": {
    "name": "ipython",
    "version": 2
   },
   "file_extension": ".py",
   "mimetype": "text/x-python",
   "name": "python",
   "nbconvert_exporter": "python",
   "pygments_lexer": "ipython2",
   "version": "2.7.11"
  }
 },
 "nbformat": 4,
 "nbformat_minor": 2
}
